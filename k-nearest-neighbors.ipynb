{
 "cells": [
  {
   "cell_type": "markdown",
   "metadata": {},
   "source": [
    "# K Nearest Neigbors\n",
    "\n",
    "This notebook implements the k nearest neighbors algorithms, KNN is the simplest classification algorithm. We have used the Iain Murray fruits dataset.\n",
    "\n",
    "Algorithm<br>\n",
    "Given a new observation<br>\n",
    "    1] Find the distance between new items and all other items<br>\n",
    "    2] Pick K shorter distance<br>\n",
    "    3] Pick the most common classes in these K distances<br>\n",
    "    4] Our new observation belong to this class\n",
    "    "
   ]
  },
  {
   "cell_type": "markdown",
   "metadata": {},
   "source": [
    "### Import Libraries"
   ]
  },
  {
   "cell_type": "code",
   "execution_count": 1,
   "metadata": {},
   "outputs": [],
   "source": [
    "import numpy as np\n",
    "import math\n",
    "import operator\n",
    "from collections import Counter"
   ]
  },
  {
   "cell_type": "markdown",
   "metadata": {},
   "source": [
    "### Read Data\n",
    "\n",
    "The data is separated by tab, we are using numpy genfromtxt to read the data"
   ]
  },
  {
   "cell_type": "code",
   "execution_count": 2,
   "metadata": {},
   "outputs": [
    {
     "data": {
      "text/plain": [
       "array([['fruit_label', 'fruit_name', 'fruit_subtype', 'mass', 'width',\n",
       "        'height', 'color_score'],\n",
       "       ['1', 'apple', 'granny_smith', '192', '8.4', '7.3', '0.55'],\n",
       "       ['1', 'apple', 'granny_smith', '180', '8.0', '6.8', '0.59'],\n",
       "       ['1', 'apple', 'granny_smith', '176', '7.4', '7.2', '0.60'],\n",
       "       ['2', 'mandarin', 'mandarin', '86', '6.2', '4.7', '0.80']],\n",
       "      dtype='<U16')"
      ]
     },
     "execution_count": 2,
     "metadata": {},
     "output_type": "execute_result"
    }
   ],
   "source": [
    "data = np.genfromtxt(\"fruit_data_with_colors.txt\", dtype=None, encoding='utf-8')\n",
    "data[:5]"
   ]
  },
  {
   "cell_type": "markdown",
   "metadata": {},
   "source": [
    "### Data PreProcessing\n",
    "\n",
    "In the dataset we have two columns in string format. To calculate distance between 2 items these string needs to be converted to integer. we can see the fruit_name and fruit_label are the just the mapping in different data type, we can ignore fruit_name column as fruit_label would suffice for our classification. So we need to convert fruit_subtype to integers. Later we divide the data into train set and test set "
   ]
  },
  {
   "cell_type": "code",
   "execution_count": 3,
   "metadata": {},
   "outputs": [],
   "source": [
    "#drop fruit_name columns from dataframe\n",
    "data = np.delete(data, [1], axis=1)"
   ]
  },
  {
   "cell_type": "code",
   "execution_count": 4,
   "metadata": {},
   "outputs": [],
   "source": [
    "#replace string to number for fruit sub type\n",
    "#data[1:,1] will give all the values for fruit column excluding column name\n",
    "fruit_sub_uniq = np.unique(data[1:,1]) \n",
    "#enumerate will give index and value from the list and \n",
    "#it is inversed so that string is key and values are number in mapping\n",
    "mapping = {value : key for key,value in dict(enumerate(fruit_sub_uniq)).items()}\n",
    "data[1:,1] = [mapping[value] for value in data[1:,1]] "
   ]
  },
  {
   "cell_type": "code",
   "execution_count": 5,
   "metadata": {},
   "outputs": [],
   "source": [
    "#removing first row as it not required for model training\n",
    "data = data[1:,:]\n",
    "#changing type to float\n",
    "data = data.astype(float)"
   ]
  },
  {
   "cell_type": "code",
   "execution_count": 6,
   "metadata": {},
   "outputs": [],
   "source": [
    "#shuffling the data so that the fruit types are distributed across the array and extracting train and test\n",
    "np.random.shuffle(data)\n",
    "test_size = 10\n",
    "split_value = np.negative(test_size)\n",
    "x_train, y_train, x_test, y_test = data[:split_value,1:], data[:split_value,0], data[split_value:,1:], data[split_value:,0] "
   ]
  },
  {
   "cell_type": "markdown",
   "metadata": {},
   "source": [
    "### Implementation"
   ]
  },
  {
   "cell_type": "code",
   "execution_count": 7,
   "metadata": {},
   "outputs": [],
   "source": [
    "#Distance method (euclidean distance)\n",
    "def euclidean_distance(instance1, instance2):\n",
    "    distance = 0\n",
    "    i = 0\n",
    "    while i < len(instance1):\n",
    "        distance += pow((instance2[i] - instance1[i]),2)\n",
    "        i = i + 1\n",
    "    return math.sqrt(distance)"
   ]
  },
  {
   "cell_type": "code",
   "execution_count": 8,
   "metadata": {},
   "outputs": [],
   "source": [
    "# no of neighbors \n",
    "k = 5\n",
    "\n",
    "#define the result array in which we will store the classified values\n",
    "predicted_class = []\n",
    "\n",
    "#iterate through test instances and calculate the distances with the training set for each, \n",
    "#get k nearest neighbors and select the classes with most frequency \n",
    "for test_instance in x_test:\n",
    "    #distances array to store distance for each traning set\n",
    "    distances = []\n",
    "    for x in x_train:\n",
    "        distances.append(euclidean_distance(x, test_instance))\n",
    "    \n",
    "    #zip distances and y _train\n",
    "    distance_with_classes = list(zip(distances, y_train))\n",
    "    \n",
    "    #sort the distances and select k values\n",
    "    distance_with_classes = sorted(distance_with_classes, key=operator.itemgetter(0))\n",
    "    distance_with_classes = distance_with_classes[:k]\n",
    "    \n",
    "    #Count the frequency of classes and select the most common one\n",
    "    result = Counter(distance[1] for distance in distance_with_classes).most_common(1)\n",
    "    predicted_class.append(result[0][0])\n"
   ]
  },
  {
   "cell_type": "markdown",
   "metadata": {},
   "source": [
    "### Comparing our model with scikit library\n",
    "Lets compare our reuslt with the scikit library. we have used accuracy for the comparison."
   ]
  },
  {
   "cell_type": "code",
   "execution_count": 9,
   "metadata": {},
   "outputs": [
    {
     "name": "stdout",
     "output_type": "stream",
     "text": [
      "Result comparison\n",
      "Actual Classes : [1 1 1 1 4 4 4 1 3 3]\n",
      "Sklearn result : [1 1 1 1 4 3 3 1 1 4]\n",
      "Our model result : [1 1 1 1 4 4 4 1 1 4]\n",
      "\n",
      "Accuracy\n",
      "Sklearn Model : 0.6\n",
      "Our Model : 0.8\n"
     ]
    }
   ],
   "source": [
    "from sklearn.neighbors import KNeighborsClassifier\n",
    "from sklearn.metrics import accuracy_score\n",
    "\n",
    "model = KNeighborsClassifier(k)\n",
    "model.fit(x_train, y_train)\n",
    "\n",
    "print(\"Result comparison\")\n",
    "print(\"Actual Classes :\",  y_test.astype(int))\n",
    "\n",
    "print(\"Sklearn result :\", model.predict(x_test).astype(int))\n",
    "print(\"Our model result :\", np.array(predicted_class).astype(int))\n",
    "\n",
    "print(\"\")\n",
    "\n",
    "print(\"Accuracy\")\n",
    "print(\"Sklearn Model :\", model.score(x_test, y_test))\n",
    "\n",
    "\n",
    "print(\"Our Model :\", accuracy_score(y_test, predicted_class))\n"
   ]
  },
  {
   "cell_type": "markdown",
   "metadata": {},
   "source": [
    "Our model accuracy is better than sklearn model ;)"
   ]
  }
 ],
 "metadata": {
  "kernelspec": {
   "display_name": "Python 3",
   "language": "python",
   "name": "python3"
  },
  "language_info": {
   "codemirror_mode": {
    "name": "ipython",
    "version": 3
   },
   "file_extension": ".py",
   "mimetype": "text/x-python",
   "name": "python",
   "nbconvert_exporter": "python",
   "pygments_lexer": "ipython3",
   "version": "3.6.9"
  }
 },
 "nbformat": 4,
 "nbformat_minor": 2
}
